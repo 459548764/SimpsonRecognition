{
 "cells": [
  {
   "cell_type": "code",
   "execution_count": 11,
   "metadata": {
    "ExecuteTime": {
     "end_time": "2017-06-09T19:07:06.402302Z",
     "start_time": "2017-06-09T19:07:06.388333Z"
    },
    "collapsed": true
   },
   "outputs": [],
   "source": [
    "import os \n",
    "import sys\n",
    "import numpy as np\n",
    "from selenium import webdriver\n",
    "import glob\n",
    "import urllib\n",
    "import time\n",
    "import cv2\n",
    "from random import shuffle\n",
    "import ffmpy\n",
    "import matplotlib.pyplot as plt\n",
    "import keras\n",
    "import imp\n",
    "import label_data\n",
    "import imp\n",
    "import pandas as pd\n",
    "imp.reload(label_data)\n",
    "%matplotlib inline"
   ]
  },
  {
   "cell_type": "markdown",
   "metadata": {
    "heading_collapsed": true
   },
   "source": [
    "#### Convert movies to avi"
   ]
  },
  {
   "cell_type": "code",
   "execution_count": null,
   "metadata": {
    "ExecuteTime": {
     "start_time": "2017-06-08T01:05:35.082Z"
    },
    "hidden": true
   },
   "outputs": [
    {
     "name": "stdout",
     "output_type": "stream",
     "text": [
      "12/13"
     ]
    }
   ],
   "source": [
    "movies = glob.glob('/Users/alexandreattia/Music/iTunes/iTunes Music/TV Shows/Les Simpson/*.mp4')\n",
    "top_k = 25\n",
    "for p in range(top_k):\n",
    "    print('\\r%i/%i' % (p,top_k), end='')\n",
    "    ff = ffmpy.FFmpeg(\n",
    "        inputs={np.random.choice(movies): None},\n",
    "        outputs={'./video%d.avi'%p: None})\n",
    "    ff.run()"
   ]
  },
  {
   "cell_type": "code",
   "execution_count": 90,
   "metadata": {
    "ExecuteTime": {
     "end_time": "2017-06-12T16:40:17.159233Z",
     "start_time": "2017-06-12T16:39:06.812180Z"
    },
    "hidden": true
   },
   "outputs": [
    {
     "name": "stdout",
     "output_type": "stream",
     "text": [
      "\r",
      "1/1"
     ]
    }
   ],
   "source": [
    "name = 'Le pire '\n",
    "nb = 1\n",
    "m = glob.glob('/Users/alexandreattia/Music/iTunes/iTunes Music/TV Shows/Les Simpson/*.mp4')\n",
    "movies = np.random.choice([k for k in m if name.lower() in k.lower()], nb)\n",
    "for k, movie in enumerate(movies):\n",
    "    print('\\r%i/%i' % (k+1,len(movies)), end='')\n",
    "    ff = ffmpy.FFmpeg(\n",
    "            inputs={movie: None},\n",
    "            outputs={'./video_target3_%d.avi'% (k): None})\n",
    "    ff.run()"
   ]
  },
  {
   "cell_type": "markdown",
   "metadata": {
    "heading_collapsed": true
   },
   "source": [
    "#### Download pictures"
   ]
  },
  {
   "cell_type": "code",
   "execution_count": 77,
   "metadata": {
    "ExecuteTime": {
     "end_time": "2017-05-24T00:28:48.758267Z",
     "start_time": "2017-05-24T00:28:48.752673Z"
    },
    "collapsed": true,
    "hidden": true
   },
   "outputs": [],
   "source": [
    "for character in characters:\n",
    "    char = character.split('/')[2]\n",
    "    browser = webdriver.Chrome()\n",
    "    browser.set_page_load_timeout(10)\n",
    "    time.sleep(np.random.randint(5, 13)*0.1)\n",
    "    for p in range(5):\n",
    "        link = \"https://search.aol.com/aol/image?q=%s+%s&s_it=searchtabs&v_t=na&page=%d\" % ('simpson', char.replace('_','+'), p+1)\n",
    "        try:\n",
    "            browser.get(link)\n",
    "        except:\n",
    "            time.sleep(np.random.randint(7)*0.1)\n",
    "        images = browser.find_elements_by_tag_name('img')\n",
    "        for i, image in enumerate(images):\n",
    "            src = image.get_attribute(\"src\")\n",
    "            if src:\n",
    "                path, _ = urllib.request.urlretrieve(src)\n",
    "                os.rename(path, './characters/%s/aol_%d_%s.png' % (char,p,i))\n",
    "        time.sleep(np.random.randint(10)*0.1)\n",
    "    browser.quit()"
   ]
  },
  {
   "cell_type": "code",
   "execution_count": null,
   "metadata": {
    "ExecuteTime": {
     "start_time": "2017-06-12T17:10:41.004Z"
    },
    "hidden": true
   },
   "outputs": [],
   "source": [
    "char = 'kent brockman'\n",
    "link = \"https://images.search.yahoo.com/search/images;_ylt=AwrTcYSZtSVZ\\\n",
    "boAA7FuJzbkF;_ylu=X3oDMTBsZ29xY3ZzBHNlYwNzZWFyY2gEc2xrA2J1dHRvbg--;_ylc=X1MDOTYwNjI4NTcEX\\\n",
    "3IDMgRhY3RuA2NsawRiY2sDZWltbXRkdGFpcHQ0aCUyNmIlM0Q0JTI2ZCUzREJVYVpCTE5wWUVLSUIxbWNQSzRYNEdYZTF\\\n",
    "5NC0lMjZzJTNEOTglMjZpJTNEbG93NXlrSzFTUXdtTEhLby5Md2EEY3NyY3B2aWQDUno0T0tUSXdOaTdwV3QxdlZTejBrUWU3Tnp\\\n",
    "NdU53QUFBQUNtT00yVgRmcgNzZnAEZnIyA3NhLWdwBGdwcmlkA3lnQ05QTnlSU2dxRTVvRl8zOWt4NkEEbXRlc3RpZANudWxsBG5fc3VnZwMxBG9yaWdpb\\\n",
    "gNpbWFnZXMuc2VhcmNoLnlhaG9vLmNvbQRwb3MDMARwcXN0cgMEcHFzdHJsAwRxc3RybAMyMwRxdWVyeQNhYnJhaGFtIGdyYW5kcGEgc2ltcHNvbgR0X3N0\\\n",
    "bXADMTQ5NTY0MzgwNQR2dGVzdGlkA251bGw-?gprid=ygCNPNyRSgqE5oF_39kx6A&pvid=Rz4OKTIwNi7pWt1vVSz0kQe7NzMuNwAAAACmO\\\n",
    "M2V&p={}&fr=sfp&fr2=sb-top-images.search.yahoo.com&ei=UTF-8&n=60&x=wrt\".format(char.replace('_','+') + 'simpson')\n",
    "\n",
    "#link='http://www.simpsoncrazy.com/pictures/bart'\n",
    "\n",
    "browser = webdriver.Chrome()\n",
    "browser.set_page_load_timeout(10)\n",
    "try:\n",
    "    browser.get(link)\n",
    "except:\n",
    "    time.sleep(np.random.randint(7)*0.1)\n",
    "time.sleep(7)\n",
    "images = browser.find_elements_by_tag_name('img')\n",
    "for i, image in enumerate(images):\n",
    "    src = image.get_attribute(\"src\")\n",
    "    if src:\n",
    "        path, _ = urllib.request.urlretrieve(src)\n",
    "        os.rename(path, './characters/%s/yahoo_%d_%s.jpg' % (char,np.random.randint(20), i))\n",
    "for elem in glob.glob('./characters/%s/*.png'):\n",
    "    k = cv2.imread(elem)\n",
    "    if not k:\n",
    "        os.remove(elem)\n",
    "browser.quit()"
   ]
  },
  {
   "cell_type": "markdown",
   "metadata": {},
   "source": [
    "#### Counting"
   ]
  },
  {
   "cell_type": "code",
   "execution_count": 93,
   "metadata": {
    "ExecuteTime": {
     "end_time": "2017-06-12T16:52:02.578060Z",
     "start_time": "2017-06-12T16:52:02.040436Z"
    },
    "scrolled": false
   },
   "outputs": [
    {
     "name": "stderr",
     "output_type": "stream",
     "text": [
      "/Users/alexandreattia/Desktop/Work/workenv/lib/python3.5/site-packages/ipykernel/__main__.py:19: DeprecationWarning: \n",
      ".ix is deprecated. Please use\n",
      ".loc for label based indexing or\n",
      ".iloc for positional indexing\n",
      "\n",
      "See the documentation here:\n",
      "http://pandas.pydata.org/pandas-docs/stable/indexing.html#deprecate_ix\n"
     ]
    },
    {
     "data": {
      "text/html": [
       "<div>\n",
       "<style>\n",
       "    .dataframe thead tr:only-child th {\n",
       "        text-align: right;\n",
       "    }\n",
       "\n",
       "    .dataframe thead th {\n",
       "        text-align: left;\n",
       "    }\n",
       "\n",
       "    .dataframe tbody tr th {\n",
       "        vertical-align: top;\n",
       "    }\n",
       "</style>\n",
       "<table border=\"1\" class=\"dataframe\">\n",
       "  <thead>\n",
       "    <tr style=\"text-align: right;\">\n",
       "      <th></th>\n",
       "      <th>name</th>\n",
       "      <th>non-filtered</th>\n",
       "      <th>edited</th>\n",
       "      <th>labeled</th>\n",
       "      <th>total</th>\n",
       "      <th>train</th>\n",
       "      <th>test</th>\n",
       "      <th>true_total</th>\n",
       "    </tr>\n",
       "  </thead>\n",
       "  <tbody>\n",
       "    <tr>\n",
       "      <th>0</th>\n",
       "      <td>Homer Simpson</td>\n",
       "      <td>1</td>\n",
       "      <td>0</td>\n",
       "      <td>2222</td>\n",
       "      <td>2222</td>\n",
       "      <td>1889</td>\n",
       "      <td>333</td>\n",
       "      <td>1176</td>\n",
       "    </tr>\n",
       "    <tr>\n",
       "      <th>1</th>\n",
       "      <td>Moe Szyslak</td>\n",
       "      <td>73</td>\n",
       "      <td>232</td>\n",
       "      <td>1166</td>\n",
       "      <td>1398</td>\n",
       "      <td>1188</td>\n",
       "      <td>210</td>\n",
       "      <td>1176</td>\n",
       "    </tr>\n",
       "    <tr>\n",
       "      <th>2</th>\n",
       "      <td>Lisa Simpson</td>\n",
       "      <td>0</td>\n",
       "      <td>251</td>\n",
       "      <td>1140</td>\n",
       "      <td>1391</td>\n",
       "      <td>1182</td>\n",
       "      <td>209</td>\n",
       "      <td>1176</td>\n",
       "    </tr>\n",
       "    <tr>\n",
       "      <th>3</th>\n",
       "      <td>Ned Flanders</td>\n",
       "      <td>19</td>\n",
       "      <td>100</td>\n",
       "      <td>1277</td>\n",
       "      <td>1377</td>\n",
       "      <td>1170</td>\n",
       "      <td>207</td>\n",
       "      <td>1176</td>\n",
       "    </tr>\n",
       "    <tr>\n",
       "      <th>4</th>\n",
       "      <td>Bart Simpson</td>\n",
       "      <td>124</td>\n",
       "      <td>0</td>\n",
       "      <td>1318</td>\n",
       "      <td>1318</td>\n",
       "      <td>1120</td>\n",
       "      <td>198</td>\n",
       "      <td>1176</td>\n",
       "    </tr>\n",
       "    <tr>\n",
       "      <th>5</th>\n",
       "      <td>Marge Simpson</td>\n",
       "      <td>122</td>\n",
       "      <td>0</td>\n",
       "      <td>1291</td>\n",
       "      <td>1291</td>\n",
       "      <td>1097</td>\n",
       "      <td>194</td>\n",
       "      <td>1176</td>\n",
       "    </tr>\n",
       "    <tr>\n",
       "      <th>6</th>\n",
       "      <td>Krusty The Clown</td>\n",
       "      <td>0</td>\n",
       "      <td>281</td>\n",
       "      <td>832</td>\n",
       "      <td>1113</td>\n",
       "      <td>946</td>\n",
       "      <td>167</td>\n",
       "      <td>1113</td>\n",
       "    </tr>\n",
       "    <tr>\n",
       "      <th>7</th>\n",
       "      <td>Charles Montgomery Burns</td>\n",
       "      <td>0</td>\n",
       "      <td>298</td>\n",
       "      <td>807</td>\n",
       "      <td>1105</td>\n",
       "      <td>939</td>\n",
       "      <td>166</td>\n",
       "      <td>1105</td>\n",
       "    </tr>\n",
       "    <tr>\n",
       "      <th>8</th>\n",
       "      <td>Abraham Grampa Simpson</td>\n",
       "      <td>0</td>\n",
       "      <td>193</td>\n",
       "      <td>716</td>\n",
       "      <td>909</td>\n",
       "      <td>773</td>\n",
       "      <td>136</td>\n",
       "      <td>909</td>\n",
       "    </tr>\n",
       "    <tr>\n",
       "      <th>9</th>\n",
       "      <td>Sideshow Bob</td>\n",
       "      <td>26</td>\n",
       "      <td>220</td>\n",
       "      <td>559</td>\n",
       "      <td>779</td>\n",
       "      <td>662</td>\n",
       "      <td>117</td>\n",
       "      <td>779</td>\n",
       "    </tr>\n",
       "    <tr>\n",
       "      <th>10</th>\n",
       "      <td>Principal Skinner</td>\n",
       "      <td>32</td>\n",
       "      <td>83</td>\n",
       "      <td>685</td>\n",
       "      <td>768</td>\n",
       "      <td>653</td>\n",
       "      <td>115</td>\n",
       "      <td>768</td>\n",
       "    </tr>\n",
       "    <tr>\n",
       "      <th>11</th>\n",
       "      <td>Chief Wiggum</td>\n",
       "      <td>17</td>\n",
       "      <td>90</td>\n",
       "      <td>587</td>\n",
       "      <td>677</td>\n",
       "      <td>575</td>\n",
       "      <td>102</td>\n",
       "      <td>677</td>\n",
       "    </tr>\n",
       "    <tr>\n",
       "      <th>12</th>\n",
       "      <td>Milhouse Van Houten</td>\n",
       "      <td>186</td>\n",
       "      <td>106</td>\n",
       "      <td>524</td>\n",
       "      <td>630</td>\n",
       "      <td>536</td>\n",
       "      <td>94</td>\n",
       "      <td>630</td>\n",
       "    </tr>\n",
       "    <tr>\n",
       "      <th>13</th>\n",
       "      <td>Apu Nahasapeemapetilon</td>\n",
       "      <td>74</td>\n",
       "      <td>55</td>\n",
       "      <td>382</td>\n",
       "      <td>437</td>\n",
       "      <td>371</td>\n",
       "      <td>66</td>\n",
       "      <td>437</td>\n",
       "    </tr>\n",
       "    <tr>\n",
       "      <th>14</th>\n",
       "      <td>Edna Krabappel</td>\n",
       "      <td>112</td>\n",
       "      <td>65</td>\n",
       "      <td>304</td>\n",
       "      <td>369</td>\n",
       "      <td>314</td>\n",
       "      <td>55</td>\n",
       "      <td>369</td>\n",
       "    </tr>\n",
       "    <tr>\n",
       "      <th>15</th>\n",
       "      <td>Kent Brockman</td>\n",
       "      <td>0</td>\n",
       "      <td>113</td>\n",
       "      <td>242</td>\n",
       "      <td>355</td>\n",
       "      <td>302</td>\n",
       "      <td>53</td>\n",
       "      <td>355</td>\n",
       "    </tr>\n",
       "    <tr>\n",
       "      <th>16</th>\n",
       "      <td>Comic Book Guy</td>\n",
       "      <td>451</td>\n",
       "      <td>28</td>\n",
       "      <td>161</td>\n",
       "      <td>189</td>\n",
       "      <td>161</td>\n",
       "      <td>28</td>\n",
       "      <td>189</td>\n",
       "    </tr>\n",
       "    <tr>\n",
       "      <th>17</th>\n",
       "      <td>Lenny Leonard</td>\n",
       "      <td>70</td>\n",
       "      <td>37</td>\n",
       "      <td>137</td>\n",
       "      <td>174</td>\n",
       "      <td>148</td>\n",
       "      <td>26</td>\n",
       "      <td>174</td>\n",
       "    </tr>\n",
       "    <tr>\n",
       "      <th>18</th>\n",
       "      <td>Nelson Muntz</td>\n",
       "      <td>70</td>\n",
       "      <td>22</td>\n",
       "      <td>147</td>\n",
       "      <td>169</td>\n",
       "      <td>144</td>\n",
       "      <td>25</td>\n",
       "      <td>169</td>\n",
       "    </tr>\n",
       "    <tr>\n",
       "      <th>19</th>\n",
       "      <td>Mayor Quimby</td>\n",
       "      <td>92</td>\n",
       "      <td>32</td>\n",
       "      <td>121</td>\n",
       "      <td>153</td>\n",
       "      <td>130</td>\n",
       "      <td>23</td>\n",
       "      <td>153</td>\n",
       "    </tr>\n",
       "    <tr>\n",
       "      <th>20</th>\n",
       "      <td>TOTAL</td>\n",
       "      <td>1469</td>\n",
       "      <td>2206</td>\n",
       "      <td>14618</td>\n",
       "      <td>16824</td>\n",
       "      <td>14300</td>\n",
       "      <td>2524</td>\n",
       "      <td>14883</td>\n",
       "    </tr>\n",
       "  </tbody>\n",
       "</table>\n",
       "</div>"
      ],
      "text/plain": [
       "                        name  non-filtered  edited  labeled  total  train  \\\n",
       "0              Homer Simpson             1       0     2222   2222   1889   \n",
       "1                Moe Szyslak            73     232     1166   1398   1188   \n",
       "2               Lisa Simpson             0     251     1140   1391   1182   \n",
       "3               Ned Flanders            19     100     1277   1377   1170   \n",
       "4               Bart Simpson           124       0     1318   1318   1120   \n",
       "5              Marge Simpson           122       0     1291   1291   1097   \n",
       "6           Krusty The Clown             0     281      832   1113    946   \n",
       "7   Charles Montgomery Burns             0     298      807   1105    939   \n",
       "8     Abraham Grampa Simpson             0     193      716    909    773   \n",
       "9               Sideshow Bob            26     220      559    779    662   \n",
       "10         Principal Skinner            32      83      685    768    653   \n",
       "11              Chief Wiggum            17      90      587    677    575   \n",
       "12       Milhouse Van Houten           186     106      524    630    536   \n",
       "13    Apu Nahasapeemapetilon            74      55      382    437    371   \n",
       "14            Edna Krabappel           112      65      304    369    314   \n",
       "15             Kent Brockman             0     113      242    355    302   \n",
       "16            Comic Book Guy           451      28      161    189    161   \n",
       "17             Lenny Leonard            70      37      137    174    148   \n",
       "18              Nelson Muntz            70      22      147    169    144   \n",
       "19              Mayor Quimby            92      32      121    153    130   \n",
       "20                     TOTAL          1469    2206    14618  16824  14300   \n",
       "\n",
       "    test  true_total  \n",
       "0    333        1176  \n",
       "1    210        1176  \n",
       "2    209        1176  \n",
       "3    207        1176  \n",
       "4    198        1176  \n",
       "5    194        1176  \n",
       "6    167        1113  \n",
       "7    166        1105  \n",
       "8    136         909  \n",
       "9    117         779  \n",
       "10   115         768  \n",
       "11   102         677  \n",
       "12    94         630  \n",
       "13    66         437  \n",
       "14    55         369  \n",
       "15    53         355  \n",
       "16    28         189  \n",
       "17    26         174  \n",
       "18    25         169  \n",
       "19    23         153  \n",
       "20  2524       14883  "
      ]
     },
     "execution_count": 93,
     "metadata": {},
     "output_type": "execute_result"
    }
   ],
   "source": [
    "characters = glob.glob('./characters/*')\n",
    "d = []\n",
    "dd = []\n",
    "for character in characters:\n",
    "    a = len([k for k in glob.glob(character + '/*') if 'edited' in k])\n",
    "    b = len([k for k in glob.glob(character + '/*') if 'pic_video' in k])\n",
    "    c = len([k for k in glob.glob(character + '/*') if 'pic_video' not in k and 'edited' not in k])\n",
    "    dd.append({'name' : character.split('/')[2].replace('_',' ').title(),\n",
    "               'edited' :a,\n",
    "               'labeled':b,\n",
    "               'total':a+b,\n",
    "               'non-filtered':c,\n",
    "               'train': round((a+b)*0.85),\n",
    "               'test': round((a+b)*0.15)})\n",
    "df = pd.DataFrame(dd)[['name', 'non-filtered',\n",
    "                       'edited', 'labeled','total',\n",
    "                      'train', 'test']].sort_values('total', ascending=False).reset_index(drop=True)\n",
    "df['true_total'] = df.total\n",
    "df.ix[df.total > (1000 / 0.85), 'true_total'] = int((1000 / 0.85))\n",
    "top_k = 20\n",
    "df2 =  pd.concat([df,pd.DataFrame({'name' : \"TOTAL\",\n",
    "           'edited' :df[:top_k].edited.sum(),\n",
    "           'labeled':df[:top_k].labeled.sum(),\n",
    "           'total':df[:top_k].total.sum(),\n",
    "           'non-filtered':df[:top_k]['non-filtered'].sum(),\n",
    "           'train': df[:top_k].train.sum(),\n",
    "           'test': df[:top_k].test.sum(),\n",
    "           'true_total': df[:top_k].true_total.sum()}, index=[top_k])])\n",
    "df2 = df2.sort_values('total', ascending=False).sort_index().reset_index(drop=True)\n",
    "df2[['name', 'non-filtered',\n",
    "    'edited', 'labeled','total',\n",
    "    'train', 'test', \"true_total\"]][:1+df2[df2.name == 'TOTAL'].index[0]]"
   ]
  },
  {
   "cell_type": "markdown",
   "metadata": {
    "heading_collapsed": true
   },
   "source": [
    "#### Filtering pictures "
   ]
  },
  {
   "cell_type": "code",
   "execution_count": null,
   "metadata": {
    "ExecuteTime": {
     "start_time": "2017-06-12T17:10:51.015Z"
    },
    "hidden": true
   },
   "outputs": [],
   "source": [
    "characters = glob.glob('./characters/*')\n",
    "d = []\n",
    "for character in characters:\n",
    "    a = len([k for k in glob.glob(character + '/*') if 'edited' in k])\n",
    "    b = len([k for k in glob.glob(character + '/*') if 'pic_video' in k])\n",
    "    d.append((character,a+b))\n",
    "characters = [e[0] for e in sorted(d, key=lambda x:x[1], reverse=True)]\n",
    "\n",
    "top_k = 10\n",
    "characters = [e for e in characters if 'nelson' in e or 'mayor' in e]\n",
    "for character in characters:\n",
    "    print(character.split('/')[2].replace('_',' ').upper())\n",
    "    pictures =  [k for k in glob.glob(character + '/*') if 'edited' not in k and 'pic_vid' not in k]\n",
    "    for pic in pictures:\n",
    "        img = cv2.imread(pic)\n",
    "        if img is not None:\n",
    "            plt.imshow(img)\n",
    "            plt.show()\n",
    "            f = input('Keep the pictures, crop it or delete it ? [Y,C,N]')\n",
    "            if f.lower() == 'skip':\n",
    "                break\n",
    "            if f.lower() in ['y', 'yes', '', 'keep', 'k']:\n",
    "                title = pic.replace('.jpg', '%d_edited.jpg' % np.random.randint(500, 5000)).replace(\n",
    "                            '.png', '%d_edited.jpg' % np.random.randint(500, 5000))\n",
    "                cv2.imwrite(title, img)\n",
    "                os.remove(pic)\n",
    "            elif f.lower() in ['crop', 'c']:\n",
    "                g = input('Right or Left half ? [R,L]')\n",
    "                if g.lower() in ['right', 'r']:\n",
    "                    img2 = img[:, int(img.shape[1]/2):]\n",
    "                    plt.imshow(img2)\n",
    "                    plt.show()\n",
    "                    h = input('Good')\n",
    "                    if h.lower() not in ['n', 'no']:\n",
    "                        title = pic.replace('.jpg', '%d_edited.jpg' % np.random.randint(500, 5000)).replace(\n",
    "                            '.png', '%d_edited.jpg' % np.random.randint(500, 5000))\n",
    "                        cv2.imwrite(title, img2)\n",
    "                        os.remove(pic)\n",
    "                    else:\n",
    "                        os.remove(pic)\n",
    "                elif g.lower() in ['left', 'l']:\n",
    "                    img2 = img[:, :int(img.shape[1]/2)]\n",
    "                    plt.imshow(img2)\n",
    "                    plt.show()\n",
    "                    h = input('Good')\n",
    "                    if h.lower() not in ['n', 'no']:\n",
    "                        title = pic.replace('.jpg', '%d_edited.jpg' % np.random.randint(500, 5000)).replace(\n",
    "                            '.png', '%d_edited.jpg' % np.random.randint(500, 5000))\n",
    "                        cv2.imwrite(title, img2)\n",
    "                        os.remove(pic)\n",
    "                    else:\n",
    "                        os.remove(pic)\n",
    "            elif f.lower() in ['no','delete','d','n']:\n",
    "                os.remove(pic)\n",
    "        else:\n",
    "            os.remove(pic)\n",
    "        print('%d pictures edited' % len([k for k in glob.glob(character + '/*') if 'edited' in k]))"
   ]
  },
  {
   "cell_type": "markdown",
   "metadata": {},
   "source": [
    "#### Data from videos"
   ]
  },
  {
   "cell_type": "code",
   "execution_count": null,
   "metadata": {
    "ExecuteTime": {
     "start_time": "2017-06-12T17:10:22.748Z"
    }
   },
   "outputs": [],
   "source": [
    "imp.reload(label_data)\n",
    "label_data.labelized_data(to_shuffle=True)"
   ]
  },
  {
   "cell_type": "markdown",
   "metadata": {},
   "source": [
    "#### Auto-creating set"
   ]
  },
  {
   "cell_type": "code",
   "execution_count": 59,
   "metadata": {
    "ExecuteTime": {
     "end_time": "2017-06-10T16:29:50.077081Z",
     "start_time": "2017-06-10T16:29:49.852954Z"
    },
    "collapsed": true
   },
   "outputs": [],
   "source": [
    "for k in map_characters.values():\n",
    "    if k not in [k.split('/')[2] for k in glob.glob('./autogenerate/*')]:\n",
    "        os.mkdir('./autogenerate/%s/'% k)"
   ]
  },
  {
   "cell_type": "code",
   "execution_count": 60,
   "metadata": {
    "ExecuteTime": {
     "end_time": "2017-06-10T16:30:44.744008Z",
     "start_time": "2017-06-10T16:29:54.844169Z"
    }
   },
   "outputs": [
    {
     "name": "stdout",
     "output_type": "stream",
     "text": [
      "5578/5578"
     ]
    }
   ],
   "source": [
    "imp.reload(label_data)\n",
    "map_characters = label_data.map_characters\n",
    "label_data.generate_pic_from_videos()\n",
    "label_data.classify_pics('./models/model_08_06.h5')"
   ]
  },
  {
   "cell_type": "code",
   "execution_count": null,
   "metadata": {
    "ExecuteTime": {
     "start_time": "2017-06-12T17:10:17.243Z"
    }
   },
   "outputs": [],
   "source": [
    "for char in glob.glob('./autogenerate/*'):\n",
    "    character = char.split('/')[2]\n",
    "    pics = glob.glob(char+'/*')\n",
    "    shuffle(pics)\n",
    "    for pic in pics:\n",
    "        img = cv2.imread(pic)\n",
    "        plt.imshow(img)\n",
    "        plt.show()\n",
    "        corr = input('%s : Correct ? [Y/n] ' % character)\n",
    "        if corr.lower() in ['y', 'yes']:\n",
    "            os.rename(pic, './characters/%s/%s' % (character, pic.split('/')[3]))\n",
    "        elif corr.lower() == 'skip':\n",
    "            break\n",
    "        else:\n",
    "            os.remove(pic)"
   ]
  },
  {
   "cell_type": "code",
   "execution_count": null,
   "metadata": {
    "collapsed": true
   },
   "outputs": [],
   "source": [
    "\n",
    "## idée : classification appli sur le tel pour les voyants de voiture"
   ]
  }
 ],
 "metadata": {
  "kernelspec": {
   "display_name": "workenv",
   "language": "python",
   "name": "workenv"
  },
  "language_info": {
   "codemirror_mode": {
    "name": "ipython",
    "version": 3
   },
   "file_extension": ".py",
   "mimetype": "text/x-python",
   "name": "python",
   "nbconvert_exporter": "python",
   "pygments_lexer": "ipython3",
   "version": "3.5.3"
  },
  "nav_menu": {},
  "toc": {
   "navigate_menu": true,
   "number_sections": true,
   "sideBar": true,
   "threshold": 6,
   "toc_cell": false,
   "toc_section_display": "block",
   "toc_window_display": false
  }
 },
 "nbformat": 4,
 "nbformat_minor": 2
}
